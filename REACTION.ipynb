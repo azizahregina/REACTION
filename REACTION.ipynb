{
  "nbformat": 4,
  "nbformat_minor": 0,
  "metadata": {
    "colab": {
      "name": "REACTION.ipynb",
      "provenance": [],
      "collapsed_sections": []
    },
    "kernelspec": {
      "name": "python3",
      "display_name": "Python 3"
    },
    "widgets": {
      "application/vnd.jupyter.widget-state+json": {
        "dc8320dff4674fe88cc5239dc519ddb3": {
          "model_module": "@jupyter-widgets/controls",
          "model_name": "CheckboxModel",
          "state": {
            "_view_name": "CheckboxView",
            "style": "IPY_MODEL_e055f929c5d84e0d93542cd56a145b1a",
            "_dom_classes": [],
            "description": "greyscale",
            "_model_name": "CheckboxModel",
            "_view_module": "@jupyter-widgets/controls",
            "_model_module_version": "1.5.0",
            "value": true,
            "_view_count": null,
            "disabled": false,
            "_view_module_version": "1.5.0",
            "indent": false,
            "description_tooltip": null,
            "_model_module": "@jupyter-widgets/controls",
            "layout": "IPY_MODEL_da2e1c00d32046e8b4aa47fd1f43dcaf"
          }
        },
        "e055f929c5d84e0d93542cd56a145b1a": {
          "model_module": "@jupyter-widgets/controls",
          "model_name": "DescriptionStyleModel",
          "state": {
            "_view_name": "StyleView",
            "_model_name": "DescriptionStyleModel",
            "description_width": "",
            "_view_module": "@jupyter-widgets/base",
            "_model_module_version": "1.5.0",
            "_view_count": null,
            "_view_module_version": "1.2.0",
            "_model_module": "@jupyter-widgets/controls"
          }
        },
        "da2e1c00d32046e8b4aa47fd1f43dcaf": {
          "model_module": "@jupyter-widgets/base",
          "model_name": "LayoutModel",
          "state": {
            "_view_name": "LayoutView",
            "grid_template_rows": null,
            "right": null,
            "justify_content": null,
            "_view_module": "@jupyter-widgets/base",
            "overflow": null,
            "_model_module_version": "1.2.0",
            "_view_count": null,
            "flex_flow": null,
            "width": null,
            "min_width": null,
            "border": null,
            "align_items": null,
            "bottom": null,
            "_model_module": "@jupyter-widgets/base",
            "top": null,
            "grid_column": null,
            "overflow_y": null,
            "overflow_x": null,
            "grid_auto_flow": null,
            "grid_area": null,
            "grid_template_columns": null,
            "flex": null,
            "_model_name": "LayoutModel",
            "justify_items": null,
            "grid_row": null,
            "max_height": null,
            "align_content": null,
            "visibility": null,
            "align_self": null,
            "height": null,
            "min_height": null,
            "padding": null,
            "grid_auto_rows": null,
            "grid_gap": null,
            "max_width": null,
            "order": null,
            "_view_module_version": "1.2.0",
            "grid_template_areas": null,
            "object_position": null,
            "object_fit": null,
            "grid_auto_columns": null,
            "margin": null,
            "display": null,
            "left": null
          }
        },
        "87940b8b752a48d68f816bf5bfcbe6a1": {
          "model_module": "@jupyter-widgets/controls",
          "model_name": "CheckboxModel",
          "state": {
            "_view_name": "CheckboxView",
            "style": "IPY_MODEL_8b05ac7699a842eb8f79b84315c43802",
            "_dom_classes": [],
            "description": "resize",
            "_model_name": "CheckboxModel",
            "_view_module": "@jupyter-widgets/controls",
            "_model_module_version": "1.5.0",
            "value": true,
            "_view_count": null,
            "disabled": false,
            "_view_module_version": "1.5.0",
            "indent": false,
            "description_tooltip": null,
            "_model_module": "@jupyter-widgets/controls",
            "layout": "IPY_MODEL_c8da61cb3d4544b792b6c960798cf156"
          }
        },
        "8b05ac7699a842eb8f79b84315c43802": {
          "model_module": "@jupyter-widgets/controls",
          "model_name": "DescriptionStyleModel",
          "state": {
            "_view_name": "StyleView",
            "_model_name": "DescriptionStyleModel",
            "description_width": "",
            "_view_module": "@jupyter-widgets/base",
            "_model_module_version": "1.5.0",
            "_view_count": null,
            "_view_module_version": "1.2.0",
            "_model_module": "@jupyter-widgets/controls"
          }
        },
        "c8da61cb3d4544b792b6c960798cf156": {
          "model_module": "@jupyter-widgets/base",
          "model_name": "LayoutModel",
          "state": {
            "_view_name": "LayoutView",
            "grid_template_rows": null,
            "right": null,
            "justify_content": null,
            "_view_module": "@jupyter-widgets/base",
            "overflow": null,
            "_model_module_version": "1.2.0",
            "_view_count": null,
            "flex_flow": null,
            "width": null,
            "min_width": null,
            "border": null,
            "align_items": null,
            "bottom": null,
            "_model_module": "@jupyter-widgets/base",
            "top": null,
            "grid_column": null,
            "overflow_y": null,
            "overflow_x": null,
            "grid_auto_flow": null,
            "grid_area": null,
            "grid_template_columns": null,
            "flex": null,
            "_model_name": "LayoutModel",
            "justify_items": null,
            "grid_row": null,
            "max_height": null,
            "align_content": null,
            "visibility": null,
            "align_self": null,
            "height": null,
            "min_height": null,
            "padding": null,
            "grid_auto_rows": null,
            "grid_gap": null,
            "max_width": null,
            "order": null,
            "_view_module_version": "1.2.0",
            "grid_template_areas": null,
            "object_position": null,
            "object_fit": null,
            "grid_auto_columns": null,
            "margin": null,
            "display": null,
            "left": null
          }
        },
        "392382bf5e944254af6084504a6972ef": {
          "model_module": "@jupyter-widgets/controls",
          "model_name": "CheckboxModel",
          "state": {
            "_view_name": "CheckboxView",
            "style": "IPY_MODEL_a81cde0b6ff34b82a9863e906e3f0c37",
            "_dom_classes": [],
            "description": "normalize",
            "_model_name": "CheckboxModel",
            "_view_module": "@jupyter-widgets/controls",
            "_model_module_version": "1.5.0",
            "value": true,
            "_view_count": null,
            "disabled": false,
            "_view_module_version": "1.5.0",
            "indent": false,
            "description_tooltip": null,
            "_model_module": "@jupyter-widgets/controls",
            "layout": "IPY_MODEL_250e53dbdbca4461a73075c37fa8816d"
          }
        },
        "a81cde0b6ff34b82a9863e906e3f0c37": {
          "model_module": "@jupyter-widgets/controls",
          "model_name": "DescriptionStyleModel",
          "state": {
            "_view_name": "StyleView",
            "_model_name": "DescriptionStyleModel",
            "description_width": "",
            "_view_module": "@jupyter-widgets/base",
            "_model_module_version": "1.5.0",
            "_view_count": null,
            "_view_module_version": "1.2.0",
            "_model_module": "@jupyter-widgets/controls"
          }
        },
        "250e53dbdbca4461a73075c37fa8816d": {
          "model_module": "@jupyter-widgets/base",
          "model_name": "LayoutModel",
          "state": {
            "_view_name": "LayoutView",
            "grid_template_rows": null,
            "right": null,
            "justify_content": null,
            "_view_module": "@jupyter-widgets/base",
            "overflow": null,
            "_model_module_version": "1.2.0",
            "_view_count": null,
            "flex_flow": null,
            "width": null,
            "min_width": null,
            "border": null,
            "align_items": null,
            "bottom": null,
            "_model_module": "@jupyter-widgets/base",
            "top": null,
            "grid_column": null,
            "overflow_y": null,
            "overflow_x": null,
            "grid_auto_flow": null,
            "grid_area": null,
            "grid_template_columns": null,
            "flex": null,
            "_model_name": "LayoutModel",
            "justify_items": null,
            "grid_row": null,
            "max_height": null,
            "align_content": null,
            "visibility": null,
            "align_self": null,
            "height": null,
            "min_height": null,
            "padding": null,
            "grid_auto_rows": null,
            "grid_gap": null,
            "max_width": null,
            "order": null,
            "_view_module_version": "1.2.0",
            "grid_template_areas": null,
            "object_position": null,
            "object_fit": null,
            "grid_auto_columns": null,
            "margin": null,
            "display": null,
            "left": null
          }
        },
        "bfc40192a8274c44a22dac60ac32a117": {
          "model_module": "@jupyter-widgets/controls",
          "model_name": "CheckboxModel",
          "state": {
            "_view_name": "CheckboxView",
            "style": "IPY_MODEL_fe107f5be3644060a847d05ceb5a0165",
            "_dom_classes": [],
            "description": "gaussian",
            "_model_name": "CheckboxModel",
            "_view_module": "@jupyter-widgets/controls",
            "_model_module_version": "1.5.0",
            "value": true,
            "_view_count": null,
            "disabled": false,
            "_view_module_version": "1.5.0",
            "indent": false,
            "description_tooltip": null,
            "_model_module": "@jupyter-widgets/controls",
            "layout": "IPY_MODEL_2675a87376004a97868dfd22eb735d61"
          }
        },
        "fe107f5be3644060a847d05ceb5a0165": {
          "model_module": "@jupyter-widgets/controls",
          "model_name": "DescriptionStyleModel",
          "state": {
            "_view_name": "StyleView",
            "_model_name": "DescriptionStyleModel",
            "description_width": "",
            "_view_module": "@jupyter-widgets/base",
            "_model_module_version": "1.5.0",
            "_view_count": null,
            "_view_module_version": "1.2.0",
            "_model_module": "@jupyter-widgets/controls"
          }
        },
        "2675a87376004a97868dfd22eb735d61": {
          "model_module": "@jupyter-widgets/base",
          "model_name": "LayoutModel",
          "state": {
            "_view_name": "LayoutView",
            "grid_template_rows": null,
            "right": null,
            "justify_content": null,
            "_view_module": "@jupyter-widgets/base",
            "overflow": null,
            "_model_module_version": "1.2.0",
            "_view_count": null,
            "flex_flow": null,
            "width": null,
            "min_width": null,
            "border": null,
            "align_items": null,
            "bottom": null,
            "_model_module": "@jupyter-widgets/base",
            "top": null,
            "grid_column": null,
            "overflow_y": null,
            "overflow_x": null,
            "grid_auto_flow": null,
            "grid_area": null,
            "grid_template_columns": null,
            "flex": null,
            "_model_name": "LayoutModel",
            "justify_items": null,
            "grid_row": null,
            "max_height": null,
            "align_content": null,
            "visibility": null,
            "align_self": null,
            "height": null,
            "min_height": null,
            "padding": null,
            "grid_auto_rows": null,
            "grid_gap": null,
            "max_width": null,
            "order": null,
            "_view_module_version": "1.2.0",
            "grid_template_areas": null,
            "object_position": null,
            "object_fit": null,
            "grid_auto_columns": null,
            "margin": null,
            "display": null,
            "left": null
          }
        },
        "6ec5a2eecb854a3aa0ca6bd3dad75604": {
          "model_module": "@jupyter-widgets/controls",
          "model_name": "HBoxModel",
          "state": {
            "_view_name": "HBoxView",
            "_dom_classes": [],
            "_model_name": "HBoxModel",
            "_view_module": "@jupyter-widgets/controls",
            "_model_module_version": "1.5.0",
            "_view_count": null,
            "_view_module_version": "1.5.0",
            "box_style": "",
            "layout": "IPY_MODEL_15c369219e0f4aa2a48dff8cb4f838f6",
            "_model_module": "@jupyter-widgets/controls",
            "children": [
              "IPY_MODEL_dc8320dff4674fe88cc5239dc519ddb3",
              "IPY_MODEL_87940b8b752a48d68f816bf5bfcbe6a1",
              "IPY_MODEL_392382bf5e944254af6084504a6972ef",
              "IPY_MODEL_bfc40192a8274c44a22dac60ac32a117"
            ]
          }
        },
        "15c369219e0f4aa2a48dff8cb4f838f6": {
          "model_module": "@jupyter-widgets/base",
          "model_name": "LayoutModel",
          "state": {
            "_view_name": "LayoutView",
            "grid_template_rows": null,
            "right": null,
            "justify_content": null,
            "_view_module": "@jupyter-widgets/base",
            "overflow": null,
            "_model_module_version": "1.2.0",
            "_view_count": null,
            "flex_flow": null,
            "width": null,
            "min_width": null,
            "border": null,
            "align_items": null,
            "bottom": null,
            "_model_module": "@jupyter-widgets/base",
            "top": null,
            "grid_column": null,
            "overflow_y": null,
            "overflow_x": null,
            "grid_auto_flow": null,
            "grid_area": null,
            "grid_template_columns": null,
            "flex": null,
            "_model_name": "LayoutModel",
            "justify_items": null,
            "grid_row": null,
            "max_height": null,
            "align_content": null,
            "visibility": null,
            "align_self": null,
            "height": null,
            "min_height": null,
            "padding": null,
            "grid_auto_rows": null,
            "grid_gap": null,
            "max_width": null,
            "order": null,
            "_view_module_version": "1.2.0",
            "grid_template_areas": null,
            "object_position": null,
            "object_fit": null,
            "grid_auto_columns": null,
            "margin": null,
            "display": null,
            "left": null
          }
        },
        "65dc585ab2834b679943794a692ca06f": {
          "model_module": "@jupyter-widgets/controls",
          "model_name": "VBoxModel",
          "state": {
            "_view_name": "VBoxView",
            "_dom_classes": [],
            "_model_name": "VBoxModel",
            "_view_module": "@jupyter-widgets/controls",
            "_model_module_version": "1.5.0",
            "_view_count": null,
            "_view_module_version": "1.5.0",
            "box_style": "",
            "layout": "IPY_MODEL_9982c9d099d143ca892cb60c65c1c64c",
            "_model_module": "@jupyter-widgets/controls",
            "children": [
              "IPY_MODEL_d21f5e9d5fc4461e8623fc7a1b369627",
              "IPY_MODEL_ca1459d0d21441ecb52f8d7de3914149",
              "IPY_MODEL_b747895a88354a5d98b42d2611a51fbd",
              "IPY_MODEL_942aa5333fe14067a0179d4e3b0319fb"
            ]
          }
        },
        "9982c9d099d143ca892cb60c65c1c64c": {
          "model_module": "@jupyter-widgets/base",
          "model_name": "LayoutModel",
          "state": {
            "_view_name": "LayoutView",
            "grid_template_rows": null,
            "right": null,
            "justify_content": null,
            "_view_module": "@jupyter-widgets/base",
            "overflow": null,
            "_model_module_version": "1.2.0",
            "_view_count": null,
            "flex_flow": "column",
            "width": "60%",
            "min_width": null,
            "border": "solid 2px",
            "align_items": "stretch",
            "bottom": null,
            "_model_module": "@jupyter-widgets/base",
            "top": null,
            "grid_column": null,
            "overflow_y": null,
            "overflow_x": null,
            "grid_auto_flow": null,
            "grid_area": null,
            "grid_template_columns": null,
            "flex": null,
            "_model_name": "LayoutModel",
            "justify_items": null,
            "grid_row": null,
            "max_height": null,
            "align_content": null,
            "visibility": null,
            "align_self": null,
            "height": null,
            "min_height": null,
            "padding": null,
            "grid_auto_rows": null,
            "grid_gap": null,
            "max_width": null,
            "order": null,
            "_view_module_version": "1.2.0",
            "grid_template_areas": null,
            "object_position": null,
            "object_fit": null,
            "grid_auto_columns": null,
            "margin": null,
            "display": "flex",
            "left": null
          }
        },
        "d21f5e9d5fc4461e8623fc7a1b369627": {
          "model_module": "@jupyter-widgets/controls",
          "model_name": "BoxModel",
          "state": {
            "_view_name": "BoxView",
            "_dom_classes": [],
            "_model_name": "BoxModel",
            "_view_module": "@jupyter-widgets/controls",
            "_model_module_version": "1.5.0",
            "_view_count": null,
            "_view_module_version": "1.5.0",
            "box_style": "",
            "layout": "IPY_MODEL_c98af862749f4078be5e274994c9c955",
            "_model_module": "@jupyter-widgets/controls",
            "children": [
              "IPY_MODEL_b1aef0b9781d4e5f94c9a9e951713244",
              "IPY_MODEL_b689bf4bafc64f7cb85f95d197d461ed"
            ]
          }
        },
        "ca1459d0d21441ecb52f8d7de3914149": {
          "model_module": "@jupyter-widgets/controls",
          "model_name": "BoxModel",
          "state": {
            "_view_name": "BoxView",
            "_dom_classes": [],
            "_model_name": "BoxModel",
            "_view_module": "@jupyter-widgets/controls",
            "_model_module_version": "1.5.0",
            "_view_count": null,
            "_view_module_version": "1.5.0",
            "box_style": "",
            "layout": "IPY_MODEL_c98af862749f4078be5e274994c9c955",
            "_model_module": "@jupyter-widgets/controls",
            "children": [
              "IPY_MODEL_6ec5a2eecb854a3aa0ca6bd3dad75604"
            ]
          }
        },
        "b747895a88354a5d98b42d2611a51fbd": {
          "model_module": "@jupyter-widgets/controls",
          "model_name": "BoxModel",
          "state": {
            "_view_name": "BoxView",
            "_dom_classes": [],
            "_model_name": "BoxModel",
            "_view_module": "@jupyter-widgets/controls",
            "_model_module_version": "1.5.0",
            "_view_count": null,
            "_view_module_version": "1.5.0",
            "box_style": "",
            "layout": "IPY_MODEL_c98af862749f4078be5e274994c9c955",
            "_model_module": "@jupyter-widgets/controls",
            "children": [
              "IPY_MODEL_15031f6bbbe747339745f1124d365e6c",
              "IPY_MODEL_a99ce0dc5e37476db0af22923c5c8e62"
            ]
          }
        },
        "942aa5333fe14067a0179d4e3b0319fb": {
          "model_module": "@jupyter-widgets/controls",
          "model_name": "BoxModel",
          "state": {
            "_view_name": "BoxView",
            "_dom_classes": [],
            "_model_name": "BoxModel",
            "_view_module": "@jupyter-widgets/controls",
            "_model_module_version": "1.5.0",
            "_view_count": null,
            "_view_module_version": "1.5.0",
            "box_style": "",
            "layout": "IPY_MODEL_c98af862749f4078be5e274994c9c955",
            "_model_module": "@jupyter-widgets/controls",
            "children": [
              "IPY_MODEL_9920157c89e44ee895a086dc12d381e1",
              "IPY_MODEL_a721ce78c1e040f6b51fb8c1ea68845b"
            ]
          }
        },
        "c98af862749f4078be5e274994c9c955": {
          "model_module": "@jupyter-widgets/base",
          "model_name": "LayoutModel",
          "state": {
            "_view_name": "LayoutView",
            "grid_template_rows": null,
            "right": null,
            "justify_content": "space-between",
            "_view_module": "@jupyter-widgets/base",
            "overflow": null,
            "_model_module_version": "1.2.0",
            "_view_count": null,
            "flex_flow": "row",
            "width": null,
            "min_width": null,
            "border": null,
            "align_items": null,
            "bottom": null,
            "_model_module": "@jupyter-widgets/base",
            "top": null,
            "grid_column": null,
            "overflow_y": null,
            "overflow_x": null,
            "grid_auto_flow": null,
            "grid_area": null,
            "grid_template_columns": null,
            "flex": null,
            "_model_name": "LayoutModel",
            "justify_items": null,
            "grid_row": null,
            "max_height": null,
            "align_content": null,
            "visibility": null,
            "align_self": null,
            "height": null,
            "min_height": null,
            "padding": null,
            "grid_auto_rows": null,
            "grid_gap": null,
            "max_width": null,
            "order": null,
            "_view_module_version": "1.2.0",
            "grid_template_areas": null,
            "object_position": null,
            "object_fit": null,
            "grid_auto_columns": null,
            "margin": null,
            "display": "flex",
            "left": null
          }
        },
        "b1aef0b9781d4e5f94c9a9e951713244": {
          "model_module": "@jupyter-widgets/controls",
          "model_name": "LabelModel",
          "state": {
            "_view_name": "LabelView",
            "style": "IPY_MODEL_1d726b9869674edaac0a122737d02a87",
            "_dom_classes": [],
            "description": "",
            "_model_name": "LabelModel",
            "placeholder": "​",
            "_view_module": "@jupyter-widgets/controls",
            "_model_module_version": "1.5.0",
            "value": "Upload Mammography",
            "_view_count": null,
            "_view_module_version": "1.5.0",
            "description_tooltip": null,
            "_model_module": "@jupyter-widgets/controls",
            "layout": "IPY_MODEL_c8a1d8dba7eb4011bccaeaa784dee72a"
          }
        },
        "b689bf4bafc64f7cb85f95d197d461ed": {
          "model_module": "@jupyter-widgets/controls",
          "model_name": "VBoxModel",
          "state": {
            "_view_name": "VBoxView",
            "_dom_classes": [],
            "_model_name": "VBoxModel",
            "_view_module": "@jupyter-widgets/controls",
            "_model_module_version": "1.5.0",
            "_view_count": null,
            "_view_module_version": "1.5.0",
            "box_style": "",
            "layout": "IPY_MODEL_75a7446f3e84404ea796d5d21fd74c33",
            "_model_module": "@jupyter-widgets/controls",
            "children": [
              "IPY_MODEL_1e1aaa77432c4ceabebc4c44430176b8",
              "IPY_MODEL_96b401d0ec7140c1bcd3aa92b6086c16"
            ]
          }
        },
        "15031f6bbbe747339745f1124d365e6c": {
          "model_module": "@jupyter-widgets/controls",
          "model_name": "LabelModel",
          "state": {
            "_view_name": "LabelView",
            "style": "IPY_MODEL_2a3f29e634e64d1d8f1fc63a3eedaa88",
            "_dom_classes": [],
            "description": "",
            "_model_name": "LabelModel",
            "placeholder": "​",
            "_view_module": "@jupyter-widgets/controls",
            "_model_module_version": "1.5.0",
            "value": "Gaussian Filter Kernel Size",
            "_view_count": null,
            "_view_module_version": "1.5.0",
            "description_tooltip": null,
            "_model_module": "@jupyter-widgets/controls",
            "layout": "IPY_MODEL_7b1d1de8a4524112ae0f03ec4fa0ecc0"
          }
        },
        "a99ce0dc5e37476db0af22923c5c8e62": {
          "model_module": "@jupyter-widgets/controls",
          "model_name": "IntSliderModel",
          "state": {
            "_view_name": "IntSliderView",
            "style": "IPY_MODEL_4b7d870d37284ad1b6c800001dc1cbff",
            "_dom_classes": [],
            "description": "",
            "step": 2,
            "_model_name": "IntSliderModel",
            "orientation": "horizontal",
            "max": 100,
            "_view_module": "@jupyter-widgets/controls",
            "_model_module_version": "1.5.0",
            "value": 5,
            "_view_count": null,
            "disabled": false,
            "_view_module_version": "1.5.0",
            "min": 1,
            "continuous_update": false,
            "readout_format": "d",
            "description_tooltip": null,
            "readout": true,
            "_model_module": "@jupyter-widgets/controls",
            "layout": "IPY_MODEL_d462528062f142539ec814db9a446fa6"
          }
        },
        "9920157c89e44ee895a086dc12d381e1": {
          "model_module": "@jupyter-widgets/controls",
          "model_name": "LabelModel",
          "state": {
            "_view_name": "LabelView",
            "style": "IPY_MODEL_e850d519f09245ec96f19e9a3f2f7f3e",
            "_dom_classes": [],
            "description": "",
            "_model_name": "LabelModel",
            "placeholder": "​",
            "_view_module": "@jupyter-widgets/controls",
            "_model_module_version": "1.5.0",
            "value": "Visualization",
            "_view_count": null,
            "_view_module_version": "1.5.0",
            "description_tooltip": null,
            "_model_module": "@jupyter-widgets/controls",
            "layout": "IPY_MODEL_810c1b91b58049dab74510c7313c9d8f"
          }
        },
        "a721ce78c1e040f6b51fb8c1ea68845b": {
          "model_module": "@jupyter-widgets/controls",
          "model_name": "VBoxModel",
          "state": {
            "_view_name": "VBoxView",
            "_dom_classes": [],
            "_model_name": "VBoxModel",
            "_view_module": "@jupyter-widgets/controls",
            "_model_module_version": "1.5.0",
            "_view_count": null,
            "_view_module_version": "1.5.0",
            "box_style": "",
            "layout": "IPY_MODEL_584d7115b4234bf99b002dee2e3a7f03",
            "_model_module": "@jupyter-widgets/controls",
            "children": []
          }
        },
        "1d726b9869674edaac0a122737d02a87": {
          "model_module": "@jupyter-widgets/controls",
          "model_name": "DescriptionStyleModel",
          "state": {
            "_view_name": "StyleView",
            "_model_name": "DescriptionStyleModel",
            "description_width": "",
            "_view_module": "@jupyter-widgets/base",
            "_model_module_version": "1.5.0",
            "_view_count": null,
            "_view_module_version": "1.2.0",
            "_model_module": "@jupyter-widgets/controls"
          }
        },
        "c8a1d8dba7eb4011bccaeaa784dee72a": {
          "model_module": "@jupyter-widgets/base",
          "model_name": "LayoutModel",
          "state": {
            "_view_name": "LayoutView",
            "grid_template_rows": null,
            "right": null,
            "justify_content": null,
            "_view_module": "@jupyter-widgets/base",
            "overflow": null,
            "_model_module_version": "1.2.0",
            "_view_count": null,
            "flex_flow": null,
            "width": null,
            "min_width": null,
            "border": null,
            "align_items": null,
            "bottom": null,
            "_model_module": "@jupyter-widgets/base",
            "top": null,
            "grid_column": null,
            "overflow_y": null,
            "overflow_x": null,
            "grid_auto_flow": null,
            "grid_area": null,
            "grid_template_columns": null,
            "flex": null,
            "_model_name": "LayoutModel",
            "justify_items": null,
            "grid_row": null,
            "max_height": null,
            "align_content": null,
            "visibility": null,
            "align_self": null,
            "height": null,
            "min_height": null,
            "padding": null,
            "grid_auto_rows": null,
            "grid_gap": null,
            "max_width": null,
            "order": null,
            "_view_module_version": "1.2.0",
            "grid_template_areas": null,
            "object_position": null,
            "object_fit": null,
            "grid_auto_columns": null,
            "margin": null,
            "display": null,
            "left": null
          }
        },
        "75a7446f3e84404ea796d5d21fd74c33": {
          "model_module": "@jupyter-widgets/base",
          "model_name": "LayoutModel",
          "state": {
            "_view_name": "LayoutView",
            "grid_template_rows": null,
            "right": null,
            "justify_content": null,
            "_view_module": "@jupyter-widgets/base",
            "overflow": null,
            "_model_module_version": "1.2.0",
            "_view_count": null,
            "flex_flow": null,
            "width": null,
            "min_width": null,
            "border": null,
            "align_items": null,
            "bottom": null,
            "_model_module": "@jupyter-widgets/base",
            "top": null,
            "grid_column": null,
            "overflow_y": null,
            "overflow_x": null,
            "grid_auto_flow": null,
            "grid_area": null,
            "grid_template_columns": null,
            "flex": null,
            "_model_name": "LayoutModel",
            "justify_items": null,
            "grid_row": null,
            "max_height": null,
            "align_content": null,
            "visibility": null,
            "align_self": null,
            "height": null,
            "min_height": null,
            "padding": null,
            "grid_auto_rows": null,
            "grid_gap": null,
            "max_width": null,
            "order": null,
            "_view_module_version": "1.2.0",
            "grid_template_areas": null,
            "object_position": null,
            "object_fit": null,
            "grid_auto_columns": null,
            "margin": null,
            "display": null,
            "left": null
          }
        },
        "1e1aaa77432c4ceabebc4c44430176b8": {
          "model_module": "@jupyter-widgets/controls",
          "model_name": "FileUploadModel",
          "state": {
            "_view_name": "FileUploadView",
            "_counter": 0,
            "style": "IPY_MODEL_2bf3cb398a0f4bc6973993fd239aecc0",
            "_dom_classes": [],
            "description": "Upload",
            "multiple": false,
            "_model_name": "FileUploadModel",
            "data": [],
            "button_style": "",
            "_view_module": "@jupyter-widgets/controls",
            "_model_module_version": "1.5.0",
            "accept": "image/*",
            "_view_count": null,
            "disabled": false,
            "_view_module_version": "1.5.0",
            "error": "",
            "description_tooltip": null,
            "metadata": [],
            "_model_module": "@jupyter-widgets/controls",
            "layout": "IPY_MODEL_7e6e2cdbed6e4f729a7644752906fb7d",
            "icon": "upload"
          }
        },
        "96b401d0ec7140c1bcd3aa92b6086c16": {
          "model_module": "@jupyter-widgets/controls",
          "model_name": "VBoxModel",
          "state": {
            "_view_name": "VBoxView",
            "_dom_classes": [],
            "_model_name": "VBoxModel",
            "_view_module": "@jupyter-widgets/controls",
            "_model_module_version": "1.5.0",
            "_view_count": null,
            "_view_module_version": "1.5.0",
            "box_style": "",
            "layout": "IPY_MODEL_12501a5a5d134734a8edbda584d99bd1",
            "_model_module": "@jupyter-widgets/controls",
            "children": []
          }
        },
        "2a3f29e634e64d1d8f1fc63a3eedaa88": {
          "model_module": "@jupyter-widgets/controls",
          "model_name": "DescriptionStyleModel",
          "state": {
            "_view_name": "StyleView",
            "_model_name": "DescriptionStyleModel",
            "description_width": "",
            "_view_module": "@jupyter-widgets/base",
            "_model_module_version": "1.5.0",
            "_view_count": null,
            "_view_module_version": "1.2.0",
            "_model_module": "@jupyter-widgets/controls"
          }
        },
        "7b1d1de8a4524112ae0f03ec4fa0ecc0": {
          "model_module": "@jupyter-widgets/base",
          "model_name": "LayoutModel",
          "state": {
            "_view_name": "LayoutView",
            "grid_template_rows": null,
            "right": null,
            "justify_content": null,
            "_view_module": "@jupyter-widgets/base",
            "overflow": null,
            "_model_module_version": "1.2.0",
            "_view_count": null,
            "flex_flow": null,
            "width": null,
            "min_width": null,
            "border": null,
            "align_items": null,
            "bottom": null,
            "_model_module": "@jupyter-widgets/base",
            "top": null,
            "grid_column": null,
            "overflow_y": null,
            "overflow_x": null,
            "grid_auto_flow": null,
            "grid_area": null,
            "grid_template_columns": null,
            "flex": null,
            "_model_name": "LayoutModel",
            "justify_items": null,
            "grid_row": null,
            "max_height": null,
            "align_content": null,
            "visibility": null,
            "align_self": null,
            "height": null,
            "min_height": null,
            "padding": null,
            "grid_auto_rows": null,
            "grid_gap": null,
            "max_width": null,
            "order": null,
            "_view_module_version": "1.2.0",
            "grid_template_areas": null,
            "object_position": null,
            "object_fit": null,
            "grid_auto_columns": null,
            "margin": null,
            "display": null,
            "left": null
          }
        },
        "4b7d870d37284ad1b6c800001dc1cbff": {
          "model_module": "@jupyter-widgets/controls",
          "model_name": "SliderStyleModel",
          "state": {
            "_view_name": "StyleView",
            "handle_color": null,
            "_model_name": "SliderStyleModel",
            "description_width": "",
            "_view_module": "@jupyter-widgets/base",
            "_model_module_version": "1.5.0",
            "_view_count": null,
            "_view_module_version": "1.2.0",
            "_model_module": "@jupyter-widgets/controls"
          }
        },
        "d462528062f142539ec814db9a446fa6": {
          "model_module": "@jupyter-widgets/base",
          "model_name": "LayoutModel",
          "state": {
            "_view_name": "LayoutView",
            "grid_template_rows": null,
            "right": null,
            "justify_content": null,
            "_view_module": "@jupyter-widgets/base",
            "overflow": null,
            "_model_module_version": "1.2.0",
            "_view_count": null,
            "flex_flow": null,
            "width": null,
            "min_width": null,
            "border": null,
            "align_items": null,
            "bottom": null,
            "_model_module": "@jupyter-widgets/base",
            "top": null,
            "grid_column": null,
            "overflow_y": null,
            "overflow_x": null,
            "grid_auto_flow": null,
            "grid_area": null,
            "grid_template_columns": null,
            "flex": null,
            "_model_name": "LayoutModel",
            "justify_items": null,
            "grid_row": null,
            "max_height": null,
            "align_content": null,
            "visibility": null,
            "align_self": null,
            "height": null,
            "min_height": null,
            "padding": null,
            "grid_auto_rows": null,
            "grid_gap": null,
            "max_width": null,
            "order": null,
            "_view_module_version": "1.2.0",
            "grid_template_areas": null,
            "object_position": null,
            "object_fit": null,
            "grid_auto_columns": null,
            "margin": null,
            "display": null,
            "left": null
          }
        },
        "e850d519f09245ec96f19e9a3f2f7f3e": {
          "model_module": "@jupyter-widgets/controls",
          "model_name": "DescriptionStyleModel",
          "state": {
            "_view_name": "StyleView",
            "_model_name": "DescriptionStyleModel",
            "description_width": "",
            "_view_module": "@jupyter-widgets/base",
            "_model_module_version": "1.5.0",
            "_view_count": null,
            "_view_module_version": "1.2.0",
            "_model_module": "@jupyter-widgets/controls"
          }
        },
        "810c1b91b58049dab74510c7313c9d8f": {
          "model_module": "@jupyter-widgets/base",
          "model_name": "LayoutModel",
          "state": {
            "_view_name": "LayoutView",
            "grid_template_rows": null,
            "right": null,
            "justify_content": null,
            "_view_module": "@jupyter-widgets/base",
            "overflow": null,
            "_model_module_version": "1.2.0",
            "_view_count": null,
            "flex_flow": null,
            "width": null,
            "min_width": null,
            "border": null,
            "align_items": null,
            "bottom": null,
            "_model_module": "@jupyter-widgets/base",
            "top": null,
            "grid_column": null,
            "overflow_y": null,
            "overflow_x": null,
            "grid_auto_flow": null,
            "grid_area": null,
            "grid_template_columns": null,
            "flex": null,
            "_model_name": "LayoutModel",
            "justify_items": null,
            "grid_row": null,
            "max_height": null,
            "align_content": null,
            "visibility": null,
            "align_self": null,
            "height": null,
            "min_height": null,
            "padding": null,
            "grid_auto_rows": null,
            "grid_gap": null,
            "max_width": null,
            "order": null,
            "_view_module_version": "1.2.0",
            "grid_template_areas": null,
            "object_position": null,
            "object_fit": null,
            "grid_auto_columns": null,
            "margin": null,
            "display": null,
            "left": null
          }
        },
        "584d7115b4234bf99b002dee2e3a7f03": {
          "model_module": "@jupyter-widgets/base",
          "model_name": "LayoutModel",
          "state": {
            "_view_name": "LayoutView",
            "grid_template_rows": null,
            "right": null,
            "justify_content": null,
            "_view_module": "@jupyter-widgets/base",
            "overflow": null,
            "_model_module_version": "1.2.0",
            "_view_count": null,
            "flex_flow": null,
            "width": null,
            "min_width": null,
            "border": null,
            "align_items": null,
            "bottom": null,
            "_model_module": "@jupyter-widgets/base",
            "top": null,
            "grid_column": null,
            "overflow_y": null,
            "overflow_x": null,
            "grid_auto_flow": null,
            "grid_area": null,
            "grid_template_columns": null,
            "flex": null,
            "_model_name": "LayoutModel",
            "justify_items": null,
            "grid_row": null,
            "max_height": null,
            "align_content": null,
            "visibility": null,
            "align_self": null,
            "height": null,
            "min_height": null,
            "padding": null,
            "grid_auto_rows": null,
            "grid_gap": null,
            "max_width": null,
            "order": null,
            "_view_module_version": "1.2.0",
            "grid_template_areas": null,
            "object_position": null,
            "object_fit": null,
            "grid_auto_columns": null,
            "margin": null,
            "display": null,
            "left": null
          }
        },
        "2bf3cb398a0f4bc6973993fd239aecc0": {
          "model_module": "@jupyter-widgets/controls",
          "model_name": "ButtonStyleModel",
          "state": {
            "_view_name": "StyleView",
            "_model_name": "ButtonStyleModel",
            "_view_module": "@jupyter-widgets/base",
            "_model_module_version": "1.5.0",
            "_view_count": null,
            "button_color": null,
            "font_weight": "",
            "_view_module_version": "1.2.0",
            "_model_module": "@jupyter-widgets/controls"
          }
        },
        "7e6e2cdbed6e4f729a7644752906fb7d": {
          "model_module": "@jupyter-widgets/base",
          "model_name": "LayoutModel",
          "state": {
            "_view_name": "LayoutView",
            "grid_template_rows": null,
            "right": null,
            "justify_content": null,
            "_view_module": "@jupyter-widgets/base",
            "overflow": null,
            "_model_module_version": "1.2.0",
            "_view_count": null,
            "flex_flow": null,
            "width": null,
            "min_width": null,
            "border": null,
            "align_items": null,
            "bottom": null,
            "_model_module": "@jupyter-widgets/base",
            "top": null,
            "grid_column": null,
            "overflow_y": null,
            "overflow_x": null,
            "grid_auto_flow": null,
            "grid_area": null,
            "grid_template_columns": null,
            "flex": null,
            "_model_name": "LayoutModel",
            "justify_items": null,
            "grid_row": null,
            "max_height": null,
            "align_content": null,
            "visibility": null,
            "align_self": null,
            "height": null,
            "min_height": null,
            "padding": null,
            "grid_auto_rows": null,
            "grid_gap": null,
            "max_width": null,
            "order": null,
            "_view_module_version": "1.2.0",
            "grid_template_areas": null,
            "object_position": null,
            "object_fit": null,
            "grid_auto_columns": null,
            "margin": null,
            "display": null,
            "left": null
          }
        },
        "12501a5a5d134734a8edbda584d99bd1": {
          "model_module": "@jupyter-widgets/base",
          "model_name": "LayoutModel",
          "state": {
            "_view_name": "LayoutView",
            "grid_template_rows": null,
            "right": null,
            "justify_content": null,
            "_view_module": "@jupyter-widgets/base",
            "overflow": null,
            "_model_module_version": "1.2.0",
            "_view_count": null,
            "flex_flow": null,
            "width": null,
            "min_width": null,
            "border": null,
            "align_items": null,
            "bottom": null,
            "_model_module": "@jupyter-widgets/base",
            "top": null,
            "grid_column": null,
            "overflow_y": null,
            "overflow_x": null,
            "grid_auto_flow": null,
            "grid_area": null,
            "grid_template_columns": null,
            "flex": null,
            "_model_name": "LayoutModel",
            "justify_items": null,
            "grid_row": null,
            "max_height": null,
            "align_content": null,
            "visibility": null,
            "align_self": null,
            "height": null,
            "min_height": null,
            "padding": null,
            "grid_auto_rows": null,
            "grid_gap": null,
            "max_width": null,
            "order": null,
            "_view_module_version": "1.2.0",
            "grid_template_areas": null,
            "object_position": null,
            "object_fit": null,
            "grid_auto_columns": null,
            "margin": null,
            "display": null,
            "left": null
          }
        },
        "e18cc956bdac486abc9a7159b90967b6": {
          "model_module": "@jupyter-widgets/controls",
          "model_name": "ButtonModel",
          "state": {
            "_view_name": "ButtonView",
            "style": "IPY_MODEL_830cb3b436194c828d6abcfbb3036f2c",
            "_dom_classes": [],
            "description": "check thread",
            "_model_name": "ButtonModel",
            "button_style": "",
            "_view_module": "@jupyter-widgets/controls",
            "_model_module_version": "1.5.0",
            "tooltip": "",
            "_view_count": null,
            "disabled": false,
            "_view_module_version": "1.5.0",
            "layout": "IPY_MODEL_3f686d60f74a47679079572b88a15414",
            "_model_module": "@jupyter-widgets/controls",
            "icon": ""
          }
        },
        "830cb3b436194c828d6abcfbb3036f2c": {
          "model_module": "@jupyter-widgets/controls",
          "model_name": "ButtonStyleModel",
          "state": {
            "_view_name": "StyleView",
            "_model_name": "ButtonStyleModel",
            "_view_module": "@jupyter-widgets/base",
            "_model_module_version": "1.5.0",
            "_view_count": null,
            "button_color": null,
            "font_weight": "",
            "_view_module_version": "1.2.0",
            "_model_module": "@jupyter-widgets/controls"
          }
        },
        "3f686d60f74a47679079572b88a15414": {
          "model_module": "@jupyter-widgets/base",
          "model_name": "LayoutModel",
          "state": {
            "_view_name": "LayoutView",
            "grid_template_rows": null,
            "right": null,
            "justify_content": null,
            "_view_module": "@jupyter-widgets/base",
            "overflow": null,
            "_model_module_version": "1.2.0",
            "_view_count": null,
            "flex_flow": null,
            "width": "100px",
            "min_width": null,
            "border": null,
            "align_items": null,
            "bottom": null,
            "_model_module": "@jupyter-widgets/base",
            "top": null,
            "grid_column": null,
            "overflow_y": null,
            "overflow_x": null,
            "grid_auto_flow": null,
            "grid_area": null,
            "grid_template_columns": null,
            "flex": null,
            "_model_name": "LayoutModel",
            "justify_items": null,
            "grid_row": null,
            "max_height": null,
            "align_content": null,
            "visibility": null,
            "align_self": null,
            "height": null,
            "min_height": null,
            "padding": null,
            "grid_auto_rows": null,
            "grid_gap": null,
            "max_width": null,
            "order": null,
            "_view_module_version": "1.2.0",
            "grid_template_areas": null,
            "object_position": null,
            "object_fit": null,
            "grid_auto_columns": null,
            "margin": null,
            "display": null,
            "left": null
          }
        },
        "2f7d4b0c14fb42c6b8f9d6b19e0f1db2": {
          "model_module": "@jupyter-widgets/controls",
          "model_name": "ButtonModel",
          "state": {
            "_view_name": "ButtonView",
            "style": "IPY_MODEL_b8adfb86d9a64b52aec30edda32e3ab4",
            "_dom_classes": [],
            "description": "stop",
            "_model_name": "ButtonModel",
            "button_style": "warning",
            "_view_module": "@jupyter-widgets/controls",
            "_model_module_version": "1.5.0",
            "tooltip": "",
            "_view_count": null,
            "disabled": false,
            "_view_module_version": "1.5.0",
            "layout": "IPY_MODEL_53f523f052fd43389fdb597f0410a403",
            "_model_module": "@jupyter-widgets/controls",
            "icon": "stop"
          }
        },
        "b8adfb86d9a64b52aec30edda32e3ab4": {
          "model_module": "@jupyter-widgets/controls",
          "model_name": "ButtonStyleModel",
          "state": {
            "_view_name": "StyleView",
            "_model_name": "ButtonStyleModel",
            "_view_module": "@jupyter-widgets/base",
            "_model_module_version": "1.5.0",
            "_view_count": null,
            "button_color": null,
            "font_weight": "",
            "_view_module_version": "1.2.0",
            "_model_module": "@jupyter-widgets/controls"
          }
        },
        "53f523f052fd43389fdb597f0410a403": {
          "model_module": "@jupyter-widgets/base",
          "model_name": "LayoutModel",
          "state": {
            "_view_name": "LayoutView",
            "grid_template_rows": null,
            "right": null,
            "justify_content": null,
            "_view_module": "@jupyter-widgets/base",
            "overflow": null,
            "_model_module_version": "1.2.0",
            "_view_count": null,
            "flex_flow": null,
            "width": "100px",
            "min_width": null,
            "border": null,
            "align_items": null,
            "bottom": null,
            "_model_module": "@jupyter-widgets/base",
            "top": null,
            "grid_column": null,
            "overflow_y": null,
            "overflow_x": null,
            "grid_auto_flow": null,
            "grid_area": null,
            "grid_template_columns": null,
            "flex": null,
            "_model_name": "LayoutModel",
            "justify_items": null,
            "grid_row": null,
            "max_height": null,
            "align_content": null,
            "visibility": null,
            "align_self": null,
            "height": null,
            "min_height": null,
            "padding": null,
            "grid_auto_rows": null,
            "grid_gap": null,
            "max_width": null,
            "order": null,
            "_view_module_version": "1.2.0",
            "grid_template_areas": null,
            "object_position": null,
            "object_fit": null,
            "grid_auto_columns": null,
            "margin": null,
            "display": null,
            "left": null
          }
        },
        "cc6ef4cd9444486dabaf8ad33d55e75e": {
          "model_module": "@jupyter-widgets/controls",
          "model_name": "LabelModel",
          "state": {
            "_view_name": "LabelView",
            "style": "IPY_MODEL_103701fc41084d51b7a4edefee657549",
            "_dom_classes": [],
            "description": "",
            "_model_name": "LabelModel",
            "placeholder": "​",
            "_view_module": "@jupyter-widgets/controls",
            "_model_module_version": "1.5.0",
            "value": "",
            "_view_count": null,
            "_view_module_version": "1.5.0",
            "description_tooltip": null,
            "_model_module": "@jupyter-widgets/controls",
            "layout": "IPY_MODEL_99390fce4b984e9fa38a7aac5b9e427e"
          }
        },
        "103701fc41084d51b7a4edefee657549": {
          "model_module": "@jupyter-widgets/controls",
          "model_name": "DescriptionStyleModel",
          "state": {
            "_view_name": "StyleView",
            "_model_name": "DescriptionStyleModel",
            "description_width": "",
            "_view_module": "@jupyter-widgets/base",
            "_model_module_version": "1.5.0",
            "_view_count": null,
            "_view_module_version": "1.2.0",
            "_model_module": "@jupyter-widgets/controls"
          }
        },
        "99390fce4b984e9fa38a7aac5b9e427e": {
          "model_module": "@jupyter-widgets/base",
          "model_name": "LayoutModel",
          "state": {
            "_view_name": "LayoutView",
            "grid_template_rows": null,
            "right": null,
            "justify_content": null,
            "_view_module": "@jupyter-widgets/base",
            "overflow": null,
            "_model_module_version": "1.2.0",
            "_view_count": null,
            "flex_flow": null,
            "width": null,
            "min_width": null,
            "border": null,
            "align_items": null,
            "bottom": null,
            "_model_module": "@jupyter-widgets/base",
            "top": null,
            "grid_column": null,
            "overflow_y": null,
            "overflow_x": null,
            "grid_auto_flow": null,
            "grid_area": null,
            "grid_template_columns": null,
            "flex": null,
            "_model_name": "LayoutModel",
            "justify_items": null,
            "grid_row": null,
            "max_height": null,
            "align_content": null,
            "visibility": null,
            "align_self": null,
            "height": null,
            "min_height": null,
            "padding": null,
            "grid_auto_rows": null,
            "grid_gap": null,
            "max_width": null,
            "order": null,
            "_view_module_version": "1.2.0",
            "grid_template_areas": null,
            "object_position": null,
            "object_fit": null,
            "grid_auto_columns": null,
            "margin": null,
            "display": null,
            "left": null
          }
        }
      }
    }
  },
  "cells": [
    {
      "cell_type": "markdown",
      "metadata": {
        "id": "Fgf06SjLx-Bc",
        "colab_type": "text"
      },
      "source": [
        "# **REACTION: Breast Cancer Detection**\n",
        "\n",
        "\n",
        "\n",
        "\n",
        "\n",
        "\n",
        "\n"
      ]
    },
    {
      "cell_type": "markdown",
      "metadata": {
        "id": "qgDScaaN7G99",
        "colab_type": "text"
      },
      "source": [
        "Read your mamography image file and provide an alternative result for breast cancer diagnose using image preprocesses"
      ]
    },
    {
      "cell_type": "code",
      "metadata": {
        "id": "tb8pmQoEcbSL",
        "colab_type": "code",
        "colab": {}
      },
      "source": [
        "from ipywidgets import Layout, Button, Box, FileUpload, Label, Checkbox, IntSlider, IntText, Button\n",
        "import ipywidgets as widgets\n",
        "from IPython.display import display\n",
        "import threading\n",
        "import time\n",
        "\n",
        "# uploader to image cv2\n",
        "import numpy as np\n",
        "import cv2\n",
        "import matplotlib.pyplot as plt\n",
        " \n",
        "import os"
      ],
      "execution_count": 74,
      "outputs": []
    },
    {
      "cell_type": "code",
      "metadata": {
        "id": "3skpTfYDceJE",
        "colab_type": "code",
        "colab": {}
      },
      "source": [
        "#define flag\n",
        "thread_status = True"
      ],
      "execution_count": 75,
      "outputs": []
    },
    {
      "cell_type": "code",
      "metadata": {
        "id": "26rKt6FMciHq",
        "colab_type": "code",
        "colab": {}
      },
      "source": [
        "# uploader\n",
        "uploader = widgets.FileUpload(\n",
        "    accept='image/*',  # Accepted file extension e.g. '.txt', '.pdf', 'image/*', 'image/*,.pdf'\n",
        "    multiple=False  # True to accept multiple files upload else False\n",
        "    )"
      ],
      "execution_count": 76,
      "outputs": []
    },
    {
      "cell_type": "code",
      "metadata": {
        "id": "ObBk1-TEckY0",
        "colab_type": "code",
        "colab": {}
      },
      "source": [
        "# uploader container\n",
        "image_container_raw = widgets.VBox(\n",
        "    children = ()\n",
        ")"
      ],
      "execution_count": 77,
      "outputs": []
    },
    {
      "cell_type": "code",
      "metadata": {
        "id": "4FQzfvXfcn4e",
        "colab_type": "code",
        "colab": {}
      },
      "source": [
        "# wrapper\n",
        "app = widgets.VBox(\n",
        "    children = (uploader, image_container_raw)\n",
        ")"
      ],
      "execution_count": 98,
      "outputs": []
    },
    {
      "cell_type": "code",
      "metadata": {
        "id": "cTTpwJfpcqO-",
        "colab_type": "code",
        "colab": {}
      },
      "source": [
        "# uploader image content and extension\n",
        "def get_content_and_extension(uploader):    \n",
        "    for _, value in uploader.value.items():\n",
        "        return value['content'], value['metadata']['name'].split('.')[-1]"
      ],
      "execution_count": 79,
      "outputs": []
    },
    {
      "cell_type": "code",
      "metadata": {
        "id": "40F81sYzcuFR",
        "colab_type": "code",
        "colab": {}
      },
      "source": [
        "# image widget from uploader\n",
        "def image_widget_from_uploader(uploader):\n",
        "    if uploader.value:\n",
        "        file_content, file_extension = get_content_and_extension(uploader)\n",
        "        return widgets.Image(value=file_content, format=file_extension)"
      ],
      "execution_count": 80,
      "outputs": []
    },
    {
      "cell_type": "code",
      "metadata": {
        "id": "Os8m-pqjcwki",
        "colab_type": "code",
        "colab": {}
      },
      "source": [
        "# image numpy from uploader\n",
        "def image_numpy_from_uploader(uploader):\n",
        "    file_content, extension = get_content_and_extension(uploader)\n",
        "    arr_from_buf = np.frombuffer(file_content, np.uint8)\n",
        "    image_numpy = cv2.imdecode(arr_from_buf, cv2.IMREAD_COLOR)\n",
        "    return image_numpy, extension"
      ],
      "execution_count": 81,
      "outputs": []
    },
    {
      "cell_type": "code",
      "metadata": {
        "id": "IWcv9jJKczYR",
        "colab_type": "code",
        "colab": {}
      },
      "source": [
        "# image widget from image numpy\n",
        "def image_widget_from_numpy(image_numpy, extension):\n",
        "    _, encoded_image = cv2.imencode('.'+extension, image_numpy,)\n",
        "    image_bytes = encoded_image.tobytes()\n",
        "    return widgets.Image(value=image_bytes, format=extension)"
      ],
      "execution_count": 82,
      "outputs": []
    },
    {
      "cell_type": "code",
      "metadata": {
        "id": "icrY-n7fc2a6",
        "colab_type": "code",
        "colab": {}
      },
      "source": [
        "# individual preprocessing\n",
        "def prepro_greyscale(image_numpy):\n",
        "    image_numpy = cv2.cvtColor(image_numpy, cv2.COLOR_BGR2GRAY)\n",
        "    return image_numpy"
      ],
      "execution_count": 83,
      "outputs": []
    },
    {
      "cell_type": "code",
      "metadata": {
        "id": "R2uXyDppc51G",
        "colab_type": "code",
        "colab": {}
      },
      "source": [
        "def prepro_resize(image_numpy,resize_w=512,resize_l=512):\n",
        "    image_numpy = cv2.resize(image_numpy,(resize_w,resize_l))\n",
        "    return image_numpy"
      ],
      "execution_count": 84,
      "outputs": []
    },
    {
      "cell_type": "code",
      "metadata": {
        "id": "DL0z6H5udBOS",
        "colab_type": "code",
        "colab": {}
      },
      "source": [
        "def prepro_normalize(image_numpy,resize_w=512,resize_l=512):\n",
        "    out_arr = np.zeros((resize_w,resize_l))\n",
        "    image_numpy = cv2.normalize(image_numpy, out_arr, 0, 255, cv2.NORM_MINMAX)\n",
        "    return image_numpy"
      ],
      "execution_count": 85,
      "outputs": []
    },
    {
      "cell_type": "code",
      "metadata": {
        "id": "2lS75qYYdGbf",
        "colab_type": "code",
        "colab": {}
      },
      "source": [
        "def prepro_gaussian(image_numpy, kernel_size):\n",
        "    image_numpy = image_numpy - cv2.GaussianBlur(image_numpy,(kernel_size, kernel_size), 0)\n",
        "    return image_numpy"
      ],
      "execution_count": 86,
      "outputs": []
    },
    {
      "cell_type": "code",
      "metadata": {
        "id": "czPqENfU2ACS",
        "colab_type": "code",
        "colab": {}
      },
      "source": [
        "slider_ksize = widgets.IntSlider(\n",
        "    value=5,\n",
        "    min=1,\n",
        "    max=100,\n",
        "    step=2,\n",
        "    description='',\n",
        "    disabled=False,\n",
        "    continuous_update=False,\n",
        "    orientation='horizontal',\n",
        "    readout=True,\n",
        "    readout_format='d'\n",
        "    )"
      ],
      "execution_count": 87,
      "outputs": []
    },
    {
      "cell_type": "code",
      "metadata": {
        "id": "Ksv2E5ErdJRw",
        "colab_type": "code",
        "colab": {
          "base_uri": "https://localhost:8080/",
          "height": 139,
          "referenced_widgets": [
            "dc8320dff4674fe88cc5239dc519ddb3",
            "e055f929c5d84e0d93542cd56a145b1a",
            "da2e1c00d32046e8b4aa47fd1f43dcaf",
            "87940b8b752a48d68f816bf5bfcbe6a1",
            "8b05ac7699a842eb8f79b84315c43802",
            "c8da61cb3d4544b792b6c960798cf156",
            "392382bf5e944254af6084504a6972ef",
            "a81cde0b6ff34b82a9863e906e3f0c37",
            "250e53dbdbca4461a73075c37fa8816d",
            "bfc40192a8274c44a22dac60ac32a117",
            "fe107f5be3644060a847d05ceb5a0165",
            "2675a87376004a97868dfd22eb735d61"
          ]
        },
        "outputId": "8a76c821-ccb3-43d6-a35e-3bd11ee1d2a1"
      },
      "source": [
        "checkbox_greyscale = widgets.Checkbox(\n",
        "    value=True,\n",
        "    description='greyscale',\n",
        "    disabled=False,\n",
        "    indent=False\n",
        ")\n",
        "checkbox_resize = widgets.Checkbox(\n",
        "    value=True,\n",
        "    description='resize',\n",
        "    disabled=False,\n",
        "    indent=False\n",
        ")\n",
        "checkbox_normalize = widgets.Checkbox(\n",
        "    value=True,\n",
        "    description='normalize',\n",
        "    disabled=False,\n",
        "    indent=False\n",
        ")\n",
        "checkbox_gaussian_filter = widgets.Checkbox(\n",
        "    value=True,\n",
        "    description='gaussian',\n",
        "    disabled=False,\n",
        "    indent=False\n",
        ")\n",
        "display(checkbox_greyscale)\n",
        "display(checkbox_resize)\n",
        "display(checkbox_normalize)\n",
        "display(checkbox_gaussian_filter)"
      ],
      "execution_count": 88,
      "outputs": [
        {
          "output_type": "display_data",
          "data": {
            "application/vnd.jupyter.widget-view+json": {
              "model_id": "dc8320dff4674fe88cc5239dc519ddb3",
              "version_minor": 0,
              "version_major": 2
            },
            "text/plain": [
              "Checkbox(value=True, description='greyscale', indent=False)"
            ]
          },
          "metadata": {
            "tags": []
          }
        },
        {
          "output_type": "display_data",
          "data": {
            "application/vnd.jupyter.widget-view+json": {
              "model_id": "87940b8b752a48d68f816bf5bfcbe6a1",
              "version_minor": 0,
              "version_major": 2
            },
            "text/plain": [
              "Checkbox(value=True, description='resize', indent=False)"
            ]
          },
          "metadata": {
            "tags": []
          }
        },
        {
          "output_type": "display_data",
          "data": {
            "application/vnd.jupyter.widget-view+json": {
              "model_id": "392382bf5e944254af6084504a6972ef",
              "version_minor": 0,
              "version_major": 2
            },
            "text/plain": [
              "Checkbox(value=True, description='normalize', indent=False)"
            ]
          },
          "metadata": {
            "tags": []
          }
        },
        {
          "output_type": "display_data",
          "data": {
            "application/vnd.jupyter.widget-view+json": {
              "model_id": "bfc40192a8274c44a22dac60ac32a117",
              "version_minor": 0,
              "version_major": 2
            },
            "text/plain": [
              "Checkbox(value=True, description='gaussian', indent=False)"
            ]
          },
          "metadata": {
            "tags": []
          }
        }
      ]
    },
    {
      "cell_type": "code",
      "metadata": {
        "id": "FTTZonzidOyn",
        "colab_type": "code",
        "colab": {
          "base_uri": "https://localhost:8080/",
          "height": 49,
          "referenced_widgets": [
            "6ec5a2eecb854a3aa0ca6bd3dad75604",
            "15c369219e0f4aa2a48dff8cb4f838f6",
            "dc8320dff4674fe88cc5239dc519ddb3",
            "87940b8b752a48d68f816bf5bfcbe6a1",
            "392382bf5e944254af6084504a6972ef",
            "bfc40192a8274c44a22dac60ac32a117",
            "e055f929c5d84e0d93542cd56a145b1a",
            "da2e1c00d32046e8b4aa47fd1f43dcaf",
            "8b05ac7699a842eb8f79b84315c43802",
            "c8da61cb3d4544b792b6c960798cf156",
            "a81cde0b6ff34b82a9863e906e3f0c37",
            "250e53dbdbca4461a73075c37fa8816d",
            "fe107f5be3644060a847d05ceb5a0165",
            "2675a87376004a97868dfd22eb735d61"
          ]
        },
        "outputId": "c8e1556b-28b2-4b69-d59f-93a7bcad80f0"
      },
      "source": [
        "checkboxes = widgets.HBox(\n",
        "    children = (checkbox_greyscale, checkbox_resize, checkbox_normalize, checkbox_gaussian_filter)\n",
        ")\n",
        "display(checkboxes)"
      ],
      "execution_count": 89,
      "outputs": [
        {
          "output_type": "display_data",
          "data": {
            "application/vnd.jupyter.widget-view+json": {
              "model_id": "6ec5a2eecb854a3aa0ca6bd3dad75604",
              "version_minor": 0,
              "version_major": 2
            },
            "text/plain": [
              "HBox(children=(Checkbox(value=True, description='greyscale', indent=False), Checkbox(value=True, description='…"
            ]
          },
          "metadata": {
            "tags": []
          }
        }
      ]
    },
    {
      "cell_type": "code",
      "metadata": {
        "id": "--ajYtcOdRQs",
        "colab_type": "code",
        "colab": {}
      },
      "source": [
        "image_container_prepro = widgets.VBox(\n",
        "    children = ()\n",
        ")"
      ],
      "execution_count": 90,
      "outputs": []
    },
    {
      "cell_type": "code",
      "metadata": {
        "id": "mKIhYLrTdT9i",
        "colab_type": "code",
        "colab": {
          "base_uri": "https://localhost:8080/",
          "height": 149,
          "referenced_widgets": [
            "65dc585ab2834b679943794a692ca06f",
            "9982c9d099d143ca892cb60c65c1c64c",
            "d21f5e9d5fc4461e8623fc7a1b369627",
            "ca1459d0d21441ecb52f8d7de3914149",
            "b747895a88354a5d98b42d2611a51fbd",
            "942aa5333fe14067a0179d4e3b0319fb",
            "c98af862749f4078be5e274994c9c955",
            "b1aef0b9781d4e5f94c9a9e951713244",
            "b689bf4bafc64f7cb85f95d197d461ed",
            "6ec5a2eecb854a3aa0ca6bd3dad75604",
            "15031f6bbbe747339745f1124d365e6c",
            "a99ce0dc5e37476db0af22923c5c8e62",
            "9920157c89e44ee895a086dc12d381e1",
            "a721ce78c1e040f6b51fb8c1ea68845b",
            "1d726b9869674edaac0a122737d02a87",
            "c8a1d8dba7eb4011bccaeaa784dee72a",
            "75a7446f3e84404ea796d5d21fd74c33",
            "1e1aaa77432c4ceabebc4c44430176b8",
            "96b401d0ec7140c1bcd3aa92b6086c16",
            "15c369219e0f4aa2a48dff8cb4f838f6",
            "dc8320dff4674fe88cc5239dc519ddb3",
            "87940b8b752a48d68f816bf5bfcbe6a1",
            "392382bf5e944254af6084504a6972ef",
            "bfc40192a8274c44a22dac60ac32a117",
            "2a3f29e634e64d1d8f1fc63a3eedaa88",
            "7b1d1de8a4524112ae0f03ec4fa0ecc0",
            "4b7d870d37284ad1b6c800001dc1cbff",
            "d462528062f142539ec814db9a446fa6",
            "e850d519f09245ec96f19e9a3f2f7f3e",
            "810c1b91b58049dab74510c7313c9d8f",
            "584d7115b4234bf99b002dee2e3a7f03",
            "2bf3cb398a0f4bc6973993fd239aecc0",
            "7e6e2cdbed6e4f729a7644752906fb7d",
            "12501a5a5d134734a8edbda584d99bd1",
            "e055f929c5d84e0d93542cd56a145b1a",
            "da2e1c00d32046e8b4aa47fd1f43dcaf",
            "8b05ac7699a842eb8f79b84315c43802",
            "c8da61cb3d4544b792b6c960798cf156",
            "a81cde0b6ff34b82a9863e906e3f0c37",
            "250e53dbdbca4461a73075c37fa8816d",
            "fe107f5be3644060a847d05ceb5a0165",
            "2675a87376004a97868dfd22eb735d61"
          ]
        },
        "outputId": "64497214-29ef-49e2-dd0c-337dfdc96878"
      },
      "source": [
        "form_item_layout = Layout(\n",
        "    display='flex',\n",
        "    flex_flow='row',\n",
        "    justify_content='space-between'\n",
        ")\n",
        "\n",
        "form_items = [\n",
        "    Box([Label(value='Upload Mammography'), app], layout=form_item_layout),\n",
        "    Box(children = (checkboxes,), layout=form_item_layout),\n",
        "    Box([Label(value='Gaussian Filter Kernel Size'), slider_ksize], layout=form_item_layout),\n",
        "    Box([Label(value='Visualization'), image_container_prepro], layout=form_item_layout)\n",
        "]\n",
        "\n",
        "form = widgets.VBox(form_items, layout=Layout(\n",
        "    display='flex',\n",
        "    flex_flow='column',\n",
        "    border='solid 2px',\n",
        "    align_items='stretch',\n",
        "    width='60%'\n",
        "))\n",
        "display(form)"
      ],
      "execution_count": 91,
      "outputs": [
        {
          "output_type": "display_data",
          "data": {
            "application/vnd.jupyter.widget-view+json": {
              "model_id": "65dc585ab2834b679943794a692ca06f",
              "version_minor": 0,
              "version_major": 2
            },
            "text/plain": [
              "VBox(children=(Box(children=(Label(value='Upload Mammography'), VBox(children=(FileUpload(value={}, accept='im…"
            ]
          },
          "metadata": {
            "tags": []
          }
        }
      ]
    },
    {
      "cell_type": "code",
      "metadata": {
        "id": "zAa2w7E2dWfF",
        "colab_type": "code",
        "colab": {}
      },
      "source": [
        "def image_widget_to_labeled(image_numpy, message):\n",
        "    layout_img=widgets.Layout(\n",
        "        display='flex',\n",
        "        flex_flow='column',\n",
        "        border='solid 2px',\n",
        "        align_items='stretch',\n",
        "        width='50%'\n",
        "        )\n",
        "    return widgets.VBox([widgets.Label(value=message), image_numpy, layout_img])   "
      ],
      "execution_count": 92,
      "outputs": []
    },
    {
      "cell_type": "code",
      "metadata": {
        "id": "taIYJS8Kzuun",
        "colab_type": "code",
        "colab": {}
      },
      "source": [
        "# label\n",
        "label_current_thread = widgets.Label()\n",
        "label_thread_list = widgets.Label()\n",
        "\n",
        "# button \n",
        "button_stop = widgets.Button(\n",
        "    description = 'stop',\n",
        "    icon = 'fa-stop',\n",
        "    button_style = 'warning',\n",
        "    layout = widgets.Layout(width='100px')\n",
        ")\n",
        "def button_stop_click(self):\n",
        "    global thread_status\n",
        "    thread_status = False\n",
        "button_stop.on_click(button_stop_click)\n",
        "\n",
        "button_check_thread = widgets.Button(\n",
        "    description = 'check thread',\n",
        "    button_style = '',\n",
        "    layout = widgets.Layout(width='100px')\n",
        ")\n",
        "def button_check_thread_click(self):\n",
        "    # print if work() still running\n",
        "    work_count = 0\n",
        "    name='work'\n",
        "    for thread_object in threading.enumerate():\n",
        "        if thread_object.name == name:\n",
        "            work_count+=1\n",
        "    if work_count > 0:\n",
        "        label_thread_list.value=f'{work_count} thread with name {name} still exist. Consider use exit() and restart kernel'\n",
        "    else:\n",
        "        label_thread_list.value=f'No thread with name {name} exist'\n",
        "button_check_thread.on_click(button_check_thread_click)"
      ],
      "execution_count": 93,
      "outputs": []
    },
    {
      "cell_type": "code",
      "metadata": {
        "id": "KpgzQ_e2db-v",
        "colab_type": "code",
        "colab": {}
      },
      "source": [
        "# main loop\n",
        "def work():\n",
        "\n",
        "    global thread_status\n",
        "    \n",
        "    if thread_status:\n",
        "        label_current_thread.value = 'Thread On'\n",
        "\n",
        "    current_state =[\n",
        "        checkbox_greyscale.value,\n",
        "        checkbox_resize.value,\n",
        "        checkbox_normalize.value,\n",
        "        checkbox_gaussian_filter.value,\n",
        "        slider_ksize.value,\n",
        "\n",
        "        uploader.value\n",
        "        ]\n",
        "    \n",
        "    while thread_status:\n",
        "        \n",
        "        # check if there is a change in uploader.value\n",
        "        if current_state != [\n",
        "            checkbox_greyscale.value,\n",
        "            checkbox_resize.value,\n",
        "            checkbox_normalize.value,\n",
        "            checkbox_gaussian_filter.value,\n",
        "            slider_ksize.value,\n",
        "\n",
        "            uploader.value\n",
        "            ]:\n",
        "            \n",
        "            # renew state reference\n",
        "            current_state = [\n",
        "                checkbox_greyscale.value,\n",
        "                checkbox_resize.value,\n",
        "                checkbox_normalize.value,\n",
        "                checkbox_gaussian_filter.value,\n",
        "                slider_ksize.value,\n",
        "                \n",
        "                uploader.value\n",
        "                ]\n",
        "            \n",
        "            \n",
        "            # image widget from uploader\n",
        "            image_widget_raw = image_widget_from_uploader(uploader)\n",
        "            \n",
        "            # renew container_raw\n",
        "            image_container_raw.children = (image_widget_raw,)\n",
        "\n",
        "            # read image numpy\n",
        "            image_numpy, extension = image_numpy_from_uploader(uploader)\n",
        "\n",
        "\n",
        "            # preprocess numpy\n",
        "            if checkbox_greyscale.value:\n",
        "                image_numpy_grayscale = prepro_greyscale(image_numpy)\n",
        "            if checkbox_resize.value:\n",
        "                image_numpy_resize    = prepro_resize(image_numpy,resize_w=512,resize_l=512)\n",
        "            if checkbox_normalize.value:\n",
        "                image_numpy_normalize = prepro_normalize(image_numpy,resize_w=512,resize_l=512)\n",
        "            if checkbox_gaussian_filter.value:\n",
        "                image_numpy_gaussian  = prepro_gaussian(image_numpy, slider_ksize.value)\n",
        "\n",
        "            \n",
        "\n",
        "            #numpy to widget\n",
        "            if checkbox_greyscale.value:\n",
        "                image_widget_grayscale = image_widget_from_numpy(image_numpy_grayscale, extension)\n",
        "            if checkbox_resize.value:\n",
        "                image_widget_resize    = image_widget_from_numpy(image_numpy_resize, extension)\n",
        "            if checkbox_normalize.value:\n",
        "                image_widget_normalize = image_widget_from_numpy(image_numpy_normalize, extension)\n",
        "            if checkbox_gaussian_filter.value:\n",
        "                image_widget_gaussian  = image_widget_from_numpy(image_numpy_gaussian, extension)\n",
        "\n",
        "                \n",
        "            # image widget to labeled widget\n",
        "            if checkbox_greyscale.value:\n",
        "                labeled_image_greyscale = image_widget_to_labeled(image_widget_grayscale, 'greyscale')\n",
        "            if checkbox_resize.value:\n",
        "                labeled_image_resize = image_widget_to_labeled(image_widget_resize, 'resize')\n",
        "            if checkbox_normalize.value:\n",
        "                labeled_image_normalize = image_widget_to_labeled(image_widget_normalize, 'normalize')\n",
        "            if checkbox_gaussian_filter.value:\n",
        "                labeled_image_gaussian = image_widget_to_labeled(image_widget_gaussian, 'gaussian filter')\n",
        "            \n",
        "            \n",
        "            temp_list = []\n",
        "            if checkbox_greyscale.value:\n",
        "                temp_list.append(labeled_image_greyscale)\n",
        "            if checkbox_resize.value:\n",
        "                temp_list.append(labeled_image_resize)\n",
        "            if checkbox_normalize.value:\n",
        "                temp_list.append(labeled_image_normalize)\n",
        "            if checkbox_gaussian_filter.value:\n",
        "                temp_list.append(labeled_image_gaussian)\n",
        "                \n",
        "            image_container_prepro.children = (*temp_list,)\n",
        "\n",
        "       \n",
        "        # sleep for threading\n",
        "        time.sleep(0.05)\n",
        "        \n",
        "        if not thread_status:\n",
        "            label_current_thread.value = 'Thread Off'"
      ],
      "execution_count": 94,
      "outputs": []
    },
    {
      "cell_type": "code",
      "metadata": {
        "id": "x00JWkLf0yuj",
        "colab_type": "code",
        "colab": {}
      },
      "source": [
        "# restart flag\n",
        "thread_status = False\n",
        "thread_status = True\n",
        "\n",
        "# create thread\n",
        "thread_work = threading.Thread(target=work)\n",
        "thread_work.name = 'work'\n",
        "\n",
        "# start thread\n",
        "thread_work.start()"
      ],
      "execution_count": 95,
      "outputs": []
    },
    {
      "cell_type": "code",
      "metadata": {
        "id": "z3x_NeNq1GAj",
        "colab_type": "code",
        "colab": {
          "base_uri": "https://localhost:8080/",
          "height": 85,
          "referenced_widgets": [
            "e18cc956bdac486abc9a7159b90967b6",
            "830cb3b436194c828d6abcfbb3036f2c",
            "3f686d60f74a47679079572b88a15414",
            "2f7d4b0c14fb42c6b8f9d6b19e0f1db2",
            "b8adfb86d9a64b52aec30edda32e3ab4",
            "53f523f052fd43389fdb597f0410a403",
            "cc6ef4cd9444486dabaf8ad33d55e75e",
            "103701fc41084d51b7a4edefee657549",
            "99390fce4b984e9fa38a7aac5b9e427e"
          ]
        },
        "outputId": "e14db31a-88ab-4ee6-b1a6-aa5b017c3f61"
      },
      "source": [
        "display(button_check_thread)\n",
        "display(button_stop)\n",
        "display(label_thread_list)"
      ],
      "execution_count": 96,
      "outputs": [
        {
          "output_type": "display_data",
          "data": {
            "application/vnd.jupyter.widget-view+json": {
              "model_id": "e18cc956bdac486abc9a7159b90967b6",
              "version_minor": 0,
              "version_major": 2
            },
            "text/plain": [
              "Button(description='check thread', layout=Layout(width='100px'), style=ButtonStyle())"
            ]
          },
          "metadata": {
            "tags": []
          }
        },
        {
          "output_type": "display_data",
          "data": {
            "application/vnd.jupyter.widget-view+json": {
              "model_id": "2f7d4b0c14fb42c6b8f9d6b19e0f1db2",
              "version_minor": 0,
              "version_major": 2
            },
            "text/plain": [
              "Button(button_style='warning', description='stop', icon='stop', layout=Layout(width='100px'), style=ButtonStyl…"
            ]
          },
          "metadata": {
            "tags": []
          }
        },
        {
          "output_type": "display_data",
          "data": {
            "application/vnd.jupyter.widget-view+json": {
              "model_id": "cc6ef4cd9444486dabaf8ad33d55e75e",
              "version_minor": 0,
              "version_major": 2
            },
            "text/plain": [
              "Label(value='')"
            ]
          },
          "metadata": {
            "tags": []
          }
        }
      ]
    },
    {
      "cell_type": "code",
      "metadata": {
        "id": "SpSBt73vdhgB",
        "colab_type": "code",
        "colab": {
          "base_uri": "https://localhost:8080/",
          "height": 149,
          "referenced_widgets": [
            "65dc585ab2834b679943794a692ca06f",
            "9982c9d099d143ca892cb60c65c1c64c",
            "d21f5e9d5fc4461e8623fc7a1b369627",
            "ca1459d0d21441ecb52f8d7de3914149",
            "b747895a88354a5d98b42d2611a51fbd",
            "942aa5333fe14067a0179d4e3b0319fb",
            "c98af862749f4078be5e274994c9c955",
            "b1aef0b9781d4e5f94c9a9e951713244",
            "b689bf4bafc64f7cb85f95d197d461ed",
            "6ec5a2eecb854a3aa0ca6bd3dad75604",
            "15031f6bbbe747339745f1124d365e6c",
            "a99ce0dc5e37476db0af22923c5c8e62",
            "9920157c89e44ee895a086dc12d381e1",
            "a721ce78c1e040f6b51fb8c1ea68845b",
            "1d726b9869674edaac0a122737d02a87",
            "c8a1d8dba7eb4011bccaeaa784dee72a",
            "75a7446f3e84404ea796d5d21fd74c33",
            "1e1aaa77432c4ceabebc4c44430176b8",
            "96b401d0ec7140c1bcd3aa92b6086c16",
            "15c369219e0f4aa2a48dff8cb4f838f6",
            "dc8320dff4674fe88cc5239dc519ddb3",
            "87940b8b752a48d68f816bf5bfcbe6a1",
            "392382bf5e944254af6084504a6972ef",
            "bfc40192a8274c44a22dac60ac32a117",
            "2a3f29e634e64d1d8f1fc63a3eedaa88",
            "7b1d1de8a4524112ae0f03ec4fa0ecc0",
            "4b7d870d37284ad1b6c800001dc1cbff",
            "d462528062f142539ec814db9a446fa6",
            "e850d519f09245ec96f19e9a3f2f7f3e",
            "810c1b91b58049dab74510c7313c9d8f",
            "584d7115b4234bf99b002dee2e3a7f03",
            "2bf3cb398a0f4bc6973993fd239aecc0",
            "7e6e2cdbed6e4f729a7644752906fb7d",
            "12501a5a5d134734a8edbda584d99bd1",
            "e055f929c5d84e0d93542cd56a145b1a",
            "da2e1c00d32046e8b4aa47fd1f43dcaf",
            "8b05ac7699a842eb8f79b84315c43802",
            "c8da61cb3d4544b792b6c960798cf156",
            "a81cde0b6ff34b82a9863e906e3f0c37",
            "250e53dbdbca4461a73075c37fa8816d",
            "fe107f5be3644060a847d05ceb5a0165",
            "2675a87376004a97868dfd22eb735d61"
          ]
        },
        "outputId": "f2ac63be-f26d-481d-edc5-836686ed0725"
      },
      "source": [
        "form"
      ],
      "execution_count": 97,
      "outputs": [
        {
          "output_type": "display_data",
          "data": {
            "application/vnd.jupyter.widget-view+json": {
              "model_id": "65dc585ab2834b679943794a692ca06f",
              "version_minor": 0,
              "version_major": 2
            },
            "text/plain": [
              "VBox(children=(Box(children=(Label(value='Upload Mammography'), VBox(children=(FileUpload(value={}, accept='im…"
            ]
          },
          "metadata": {
            "tags": []
          }
        }
      ]
    }
  ]
}